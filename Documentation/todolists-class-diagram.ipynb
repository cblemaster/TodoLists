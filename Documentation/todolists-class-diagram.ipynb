{
 "cells": [
  {
   "cell_type": "code",
   "execution_count": null,
   "metadata": {
    "dotnet_interactive": {
     "language": "mermaid"
    },
    "polyglot_notebook": {
     "kernelName": "mermaid"
    }
   },
   "outputs": [
    {
     "data": {
      "text/html": [
       "<div class=\"mermaidMarkdownContainer\" style=\"background-color:white\">\r\n",
       "<link rel=\"stylesheet\" href=\"https://cdnjs.cloudflare.com/ajax/libs/font-awesome/6.2.0/css/all.min.css\">\r\n",
       "<div id=\"8e77de6c27ba4eef87260921070ab263\"></div>\r\n",
       "<script type=\"module\">\r\n",
       "\r\n",
       "            import mermaid from 'https://cdn.jsdelivr.net/npm/mermaid@10.6.1/dist/mermaid.esm.min.mjs';\r\n",
       "            let renderTarget = document.getElementById('8e77de6c27ba4eef87260921070ab263');\r\n",
       "            try {\r\n",
       "                const {svg, bindFunctions} = await mermaid.mermaidAPI.render( \r\n",
       "                    'mermaid_8e77de6c27ba4eef87260921070ab263', \r\n",
       "                    `---\r\n",
       "title: Todo lists\r\n",
       "---\r\n",
       "\r\n",
       "classDiagram\r\n",
       "    Todo -- |> TodoList\r\n",
       "    \r\n",
       "    class TodoList\r\n",
       "    TodoList : +guid ListId\r\n",
       "    TodoList : +string name\r\n",
       "    \r\n",
       "    class Todo\r\n",
       "    Todo: +guid TodoId\r\n",
       "    Todo: +guid ListId\r\n",
       "    Todo: +string name\r\n",
       "    Todo: +dateonly? dueDate\r\n",
       "    Todo: +bool isImportant\r\n",
       "    Todo: +bool isComplete\r\n",
       "\r\n",
       "    \r\n",
       "`);\r\n",
       "                renderTarget.innerHTML = svg;\r\n",
       "                bindFunctions?.(renderTarget);\r\n",
       "            }\r\n",
       "            catch (error) {\r\n",
       "                console.log(error);\r\n",
       "            }\r\n",
       "</script>\r\n",
       "</div>\r\n"
      ]
     },
     "metadata": {},
     "output_type": "display_data"
    }
   ],
   "source": [
    "---\n",
    "title: Todo lists\n",
    "---\n",
    "\n",
    "classDiagram\n",
    "    Todo -- |> TodoList\n",
    "    \n",
    "    class TodoList\n",
    "    TodoList : +guid ListId\n",
    "    TodoList : +string name\n",
    "    \n",
    "    class Todo\n",
    "    Todo: +guid TodoId\n",
    "    Todo: +guid ListId\n",
    "    Todo: +string name\n",
    "    Todo: +dateonly? dueDate\n",
    "    Todo: +bool isImportant\n",
    "    Todo: +bool isComplete\n",
    "    "
   ]
  }
 ],
 "metadata": {
  "kernelspec": {
   "display_name": ".NET (C#)",
   "language": "C#",
   "name": ".net-csharp"
  },
  "polyglot_notebook": {
   "kernelInfo": {
    "defaultKernelName": "csharp",
    "items": [
     {
      "aliases": [],
      "name": "csharp"
     }
    ]
   }
  }
 },
 "nbformat": 4,
 "nbformat_minor": 2
}
