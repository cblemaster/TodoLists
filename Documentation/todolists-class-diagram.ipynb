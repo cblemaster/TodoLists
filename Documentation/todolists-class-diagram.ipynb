{
 "cells": [
  {
   "cell_type": "code",
   "execution_count": null,
   "metadata": {
    "dotnet_interactive": {
     "language": "mermaid"
    },
    "polyglot_notebook": {
     "kernelName": "mermaid"
    }
   },
   "outputs": [
    {
     "data": {
      "text/html": [
       "<div class=\"mermaidMarkdownContainer\" style=\"background-color:white\">\r\n",
       "<link rel=\"stylesheet\" href=\"https://cdnjs.cloudflare.com/ajax/libs/font-awesome/6.2.0/css/all.min.css\">\r\n",
       "<div id=\"ececd47ee44744a0920e5e2c55b2bcda\"></div>\r\n",
       "<script type=\"module\">\r\n",
       "\r\n",
       "            import mermaid from 'https://cdn.jsdelivr.net/npm/mermaid@10.6.1/dist/mermaid.esm.min.mjs';\r\n",
       "            let renderTarget = document.getElementById('ececd47ee44744a0920e5e2c55b2bcda');\r\n",
       "            try {\r\n",
       "                const {svg, bindFunctions} = await mermaid.mermaidAPI.render( \r\n",
       "                    'mermaid_ececd47ee44744a0920e5e2c55b2bcda', \r\n",
       "                    `---\r\n",
       "title: Todo lists\r\n",
       "---\r\n",
       "\r\n",
       "classDiagram\r\n",
       "    class TodoList\r\n",
       "    TodoList : +guid id\r\n",
       "    TodoList : +string name\r\n",
       "        \r\n",
       "    class Todo\r\n",
       "    Todo: +guid id\r\n",
       "    Todo: +guid listId\r\n",
       "    Todo: +string description\r\n",
       "    Todo: +dateonly? dueDate\r\n",
       "    Todo: +bool isImportant\r\n",
       "    Todo: +bool isComplete\r\n",
       "    \r\n",
       "    Todo --|> TodoList\r\n",
       "`);\r\n",
       "                renderTarget.innerHTML = svg;\r\n",
       "                bindFunctions?.(renderTarget);\r\n",
       "            }\r\n",
       "            catch (error) {\r\n",
       "                console.log(error);\r\n",
       "            }\r\n",
       "</script>\r\n",
       "</div>\r\n"
      ]
     },
     "metadata": {},
     "output_type": "display_data"
    }
   ],
   "source": [
    "---\n",
    "title: Todo lists\n",
    "---\n",
    "\n",
    "classDiagram\n",
    "    class TodoList\n",
    "    TodoList : +guid id\n",
    "    TodoList : +string name\n",
    "        \n",
    "    class Todo\n",
    "    Todo: +guid id\n",
    "    Todo: +guid listId\n",
    "    Todo: +string description\n",
    "    Todo: +dateonly? dueDate\n",
    "    Todo: +bool isImportant\n",
    "    Todo: +bool isComplete\n",
    "    \n",
    "    Todo --|> TodoList\n"
   ]
  }
 ],
 "metadata": {
  "kernelspec": {
   "display_name": ".NET (C#)",
   "language": "C#",
   "name": ".net-csharp"
  },
  "polyglot_notebook": {
   "kernelInfo": {
    "defaultKernelName": "csharp",
    "items": [
     {
      "aliases": [],
      "name": "csharp"
     }
    ]
   }
  }
 },
 "nbformat": 4,
 "nbformat_minor": 2
}
